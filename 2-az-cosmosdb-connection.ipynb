{
 "cells": [
  {
   "cell_type": "code",
   "execution_count": 2,
   "metadata": {},
   "outputs": [],
   "source": [
    "from azure.cosmosdb.table.tableservice import TableService\n",
    "from azure.cosmosdb.table.models import Entity"
   ]
  },
  {
   "cell_type": "code",
   "execution_count": 1,
   "metadata": {},
   "outputs": [
    {
     "ename": "NameError",
     "evalue": "name 'TableService' is not defined",
     "output_type": "error",
     "traceback": [
      "\u001b[1;31m---------------------------------------------------------------------------\u001b[0m",
      "\u001b[1;31mNameError\u001b[0m                                 Traceback (most recent call last)",
      "\u001b[1;32m<ipython-input-1-3d3fee4bbaa1>\u001b[0m in \u001b[0;36m<module>\u001b[1;34m\u001b[0m\n\u001b[1;32m----> 1\u001b[1;33m table_service = TableService(\n\u001b[0m\u001b[0;32m      2\u001b[0m     \u001b[0maccount_name\u001b[0m\u001b[1;33m=\u001b[0m\u001b[1;34m''\u001b[0m\u001b[1;33m,\u001b[0m\u001b[1;33m\u001b[0m\u001b[1;33m\u001b[0m\u001b[0m\n\u001b[0;32m      3\u001b[0m     account_key='')\n",
      "\u001b[1;31mNameError\u001b[0m: name 'TableService' is not defined"
     ]
    }
   ],
   "source": [
    "table_service = TableService(\n",
    "    account_name='', \n",
    "    account_key='')"
   ]
  },
  {
   "cell_type": "code",
   "execution_count": 4,
   "metadata": {},
   "outputs": [
    {
     "data": {
      "text/plain": [
       "True"
      ]
     },
     "execution_count": 4,
     "metadata": {},
     "output_type": "execute_result"
    }
   ],
   "source": [
    "table_service.create_table('tasktable')"
   ]
  },
  {
   "cell_type": "code",
   "execution_count": 5,
   "metadata": {},
   "outputs": [
    {
     "data": {
      "text/plain": [
       "True"
      ]
     },
     "execution_count": 5,
     "metadata": {},
     "output_type": "execute_result"
    }
   ],
   "source": [
    "table_service.create_table('tasktable1')"
   ]
  },
  {
   "cell_type": "code",
   "execution_count": 6,
   "metadata": {},
   "outputs": [
    {
     "data": {
      "text/plain": [
       "'W/\"datetime\\'2020-06-25T13%3A03%3A01.4996926Z\\'\"'"
      ]
     },
     "execution_count": 6,
     "metadata": {},
     "output_type": "execute_result"
    }
   ],
   "source": [
    "task = {'PartitionKey': 'tasksSeattle', 'RowKey': '001',\n",
    "        'description': 'Take out the trash', 'priority': 200}\n",
    "table_service.insert_entity('tasktable', task)"
   ]
  },
  {
   "cell_type": "code",
   "execution_count": 7,
   "metadata": {},
   "outputs": [
    {
     "data": {
      "text/plain": [
       "['W/\"datetime\\'2020-06-25T13%3A09%3A38.1710295Z\\'\"',\n",
       " 'W/\"datetime\\'2020-06-25T13%3A09%3A38.1710295Z\\'\"']"
      ]
     },
     "execution_count": 7,
     "metadata": {},
     "output_type": "execute_result"
    }
   ],
   "source": [
    "from azure.cosmosdb.table.tablebatch import TableBatch\n",
    "batch = TableBatch()\n",
    "task004 = {'PartitionKey': 'tasksSeattle', 'RowKey': '004',\n",
    "           'description': 'Go grocery shopping', 'priority': 400}\n",
    "task005 = {'PartitionKey': 'tasksSeattle', 'RowKey': '005',\n",
    "           'description': 'Clean the bathroom', 'priority': 100}\n",
    "batch.insert_entity(task004)\n",
    "batch.insert_entity(task005)\n",
    "table_service.commit_batch('tasktable', batch)"
   ]
  },
  {
   "cell_type": "code",
   "execution_count": null,
   "metadata": {},
   "outputs": [],
   "source": []
  }
 ],
 "metadata": {
  "kernelspec": {
   "display_name": "Python 3",
   "language": "python",
   "name": "python3"
  },
  "language_info": {
   "codemirror_mode": {
    "name": "ipython",
    "version": 3
   },
   "file_extension": ".py",
   "mimetype": "text/x-python",
   "name": "python",
   "nbconvert_exporter": "python",
   "pygments_lexer": "ipython3",
   "version": "3.7.6"
  }
 },
 "nbformat": 4,
 "nbformat_minor": 4
}
